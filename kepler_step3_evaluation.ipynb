{
 "cells": [
  {
   "cell_type": "markdown",
   "metadata": {},
   "source": [
    "# Kepler challenge\n",
    "## evaluation"
   ]
  },
  {
   "cell_type": "code",
   "execution_count": 1,
   "metadata": {},
   "outputs": [],
   "source": [
    "import numpy as np\n",
    "import pandas as pd\n",
    "import matplotlib.pyplot as plt\n",
    "import seaborn as sns\n",
    "\n",
    "from sklearn.metrics import classification_report\n",
    "from sklearn.metrics import confusion_matrix"
   ]
  },
  {
   "cell_type": "code",
   "execution_count": 2,
   "metadata": {},
   "outputs": [],
   "source": [
    "def _convert_p_values(p_0, p_1, epsilon):\n",
    "    \"\"\"converting the p-values from TCP into the approprate prediction given the value of epsilon\n",
    "    for two classes this equates to four possible predcted classes\n",
    "    either negative, positive, both or neither.\"\"\"\n",
    "    # epsilon = e.g. 0.2 for 80% significance level\n",
    "    # Interpret the conformal p-values\n",
    "    is_0 = p_0 > epsilon\n",
    "    is_1 = p_1 > epsilon\n",
    "    if is_0 and not is_1:\n",
    "        return 0\n",
    "    elif not is_0 and is_1:\n",
    "        return 1\n",
    "    elif is_0 and is_1:\n",
    "        # classified as both\n",
    "        return 0.5\n",
    "    else:\n",
    "        # classified as neither\n",
    "        return -1\n",
    "\n",
    "def print_confusion_matrix(res_mat, eps):\n",
    "    \"\"\"prints the TCP equivalent of a confusion matrix\n",
    "    hence with two true classes there will be four predicted classes\"\"\"\n",
    "    sig_level = (1 - eps) * 100 \n",
    "    pred = np.zeros(n_test)\n",
    "    for i in range(n_test):\n",
    "        pred[i] = _convert_p_values(res_mat[i, 0], res_mat[i, 1], eps)\n",
    "        \n",
    "    print('  ')\n",
    "    confusion_mat = np.zeros((2,4))\n",
    "    confusion_mat[0, 0] = len(np.where(pred[5:]==0)[0])\n",
    "    confusion_mat[0, 1] = len(np.where(pred[5:]==1)[0])\n",
    "    confusion_mat[0, 2] = len(np.where(pred[5:]==0.5)[0])\n",
    "    confusion_mat[0, 3] = len(np.where(pred[5:]==-1)[0])\n",
    "    confusion_mat[1, 0] = len(np.where(pred[:5]==0)[0])\n",
    "    confusion_mat[1, 1] = len(np.where(pred[:5]==1)[0])\n",
    "    confusion_mat[1, 2] = len(np.where(pred[:5]==0.5)[0])\n",
    "    confusion_mat[1, 3] = len(np.where(pred[:5]==-1)[0])\n",
    "    col_names = ['nonexo', 'exo', 'both', 'neither']\n",
    "    CM  = pd.DataFrame(np.int64(confusion_mat), columns = col_names, index=['nonexo','exo'])\n",
    "    print('confusion matrix, significance level = %s'%(int(sig_level)),'%')\n",
    "    print('  ')\n",
    "    print(CM)\n",
    "    print('  ')"
   ]
  },
  {
   "cell_type": "markdown",
   "metadata": {},
   "source": [
    "## summary level results\n",
    "below I read in the results from running the TCP algorithm 100 times and compute the median p-value across those 100 draws and I plot those median p-values for the 5 test stars (out of 570 test stars) that had confirmed exoplanets. The red dots correspond to the p-values for the nonexoplanet prediction and the green dots for the exoplanet=True prediction."
   ]
  },
  {
   "cell_type": "code",
   "execution_count": 3,
   "metadata": {},
   "outputs": [
    {
     "data": {
      "image/png": "[encoded data removed]",
      "text/plain": [
       "<Figure size 360x360 with 1 Axes>"
      ]
     },
     "metadata": {},
     "output_type": "display_data"
    }
   ],
   "source": [
    "y_test = pd.read_csv('y_test.csv', index_col=0)\n",
    "res = np.load('res.npy')\n",
    "n_draws = res.shape[0]\n",
    "n_test = res.shape[1]\n",
    "res_median = np.zeros((n_test, 2))\n",
    "for i in range(n_test):\n",
    "    res_median[i, 0] = np.median(res[:, i, 0])\n",
    "    res_median[i, 1] = np.median(res[:, i, 1])\n",
    "\n",
    "fig = plt.figure(facecolor='w',figsize=(5,5))\n",
    "ax = fig.add_subplot(111)\n",
    "ax.scatter(np.arange(1, n_test + 1), res_median[:, 0], color='r', s=100)\n",
    "ax.scatter(np.arange(1, n_test + 1), res_median[:, 1], color='g', s=100)\n",
    "ax.set_ylim(0, 1)\n",
    "ax.set_xlim(0.5, 5.5)\n",
    "plt.title('p-values for test stars with exoplanets')\n",
    "plt.ylabel('p-value')\n",
    "plt.xlabel('star')\n",
    "plt.show()\n",
    "plt.close()"
   ]
  },
  {
   "cell_type": "markdown",
   "metadata": {},
   "source": [
    "## confusion matrices\n",
    "confusion matrices for two different significance levels. At both the 95% and 80% significance level we correctly classify 3/5 of the planets that actually had exoplanets. If we take an 80% significance level we do quite well with the nonexoplanet stars, but at a more stringent significance level we can see that a significant proportion of these become somewhat difficult to correctly classify."
   ]
  },
  {
   "cell_type": "code",
   "execution_count": 4,
   "metadata": {},
   "outputs": [
    {
     "name": "stdout",
     "output_type": "stream",
     "text": [
      "  \n",
      "confusion matrix, significance level = 80 %\n",
      "  \n",
      "        nonexo  exo  both  neither\n",
      "nonexo     495   12     0       58\n",
      "exo          2    3     0        0\n",
      "  \n",
      "  \n",
      "confusion matrix, significance level = 95 %\n",
      "  \n",
      "        nonexo  exo  both  neither\n",
      "nonexo     379    8   178        0\n",
      "exo          0    3     2        0\n",
      "  \n"
     ]
    }
   ],
   "source": [
    "print_confusion_matrix(res_mat=res_median, eps=0.2)\n",
    "print_confusion_matrix(res_mat=res_median, eps=0.05)"
   ]
  }
 ],
 "metadata": {
  "kernelspec": {
   "display_name": "Python 3",
   "language": "python",
   "name": "python3"
  },
  "language_info": {
   "codemirror_mode": {
    "name": "ipython",
    "version": 3
   },
   "file_extension": ".py",
   "mimetype": "text/x-python",
   "name": "python",
   "nbconvert_exporter": "python",
   "pygments_lexer": "ipython3",
   "version": "3.7.1"
  }
 },
 "nbformat": 4,
 "nbformat_minor": 2
}
