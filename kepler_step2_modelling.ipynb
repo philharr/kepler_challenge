{
 "cells": [
  {
   "cell_type": "markdown",
   "metadata": {},
   "source": [
    "# Kepler challenge\n",
    "## modelling\n",
    "1. extract and select features from the preprocessed time series (based on the 37 actual + 37 augmented positives and 200 randomly drawn negatives). Positive = with an exoplanet, negative = without\n",
    "2. apply PCA to the selected features\n",
    "3. fit Random Forest models based on the top 20 PCs\n",
    "4. perform trainsductive conformal prediction 100 times by repeating steps 1-3\n",
    "5. save the modelling output"
   ]
  },
  {
   "cell_type": "code",
   "execution_count": 1,
   "metadata": {},
   "outputs": [],
   "source": [
    "import numpy as np\n",
    "import pandas as pd\n",
    "import itertools\n",
    "\n",
    "from scipy import ndimage\n",
    "\n",
    "from datetime import datetime\n",
    "\n",
    "from sklearn.ensemble import RandomForestClassifier\n",
    "from sklearn.decomposition import PCA\n",
    "from sklearn.preprocessing import StandardScaler, RobustScaler, MinMaxScaler\n",
    "from sklearn.ensemble import RandomForestClassifier\n",
    "\n",
    "from tsfresh import extract_features, extract_relevant_features, select_features\n",
    "from tsfresh.utilities.dataframe_functions import impute\n",
    "from tsfresh.feature_extraction import ComprehensiveFCParameters, settings\n",
    "\n",
    "# set the logger to error level\n",
    "# tsfresh outputs many warnings for features that cannot be calculated\n",
    "import logging\n",
    "logging.basicConfig(level=logging.ERROR)\n",
    "\n",
    "import warnings\n",
    "warnings.filterwarnings(\"ignore\", category=DeprecationWarning)\n",
    "warnings.filterwarnings(\"ignore\", category=FutureWarning)"
   ]
  },
  {
   "cell_type": "code",
   "execution_count": 2,
   "metadata": {},
   "outputs": [],
   "source": [
    "# from tsfresh github examples\n",
    "# note in this function they write normalize where they should really have written standardize!\n",
    "class PCAForPandas(PCA):\n",
    "    \"\"\"This class is just a small wrapper around the PCA estimator of sklearn \n",
    "    including normalization to make it compatible with pandas DataFrames.\"\"\"\n",
    "\n",
    "    def __init__(self, **kwargs):\n",
    "        self._z_scaler = StandardScaler()\n",
    "        super(self.__class__, self).__init__(**kwargs)\n",
    "\n",
    "        self._X_columns = None\n",
    "\n",
    "    def fit(self, X, y=None):\n",
    "        \"\"\"Normalize X and call the fit method of the base class with numpy arrays\n",
    "        instead of pandas data frames.\"\"\"\n",
    "\n",
    "        X = self._prepare(X)\n",
    "\n",
    "        self._z_scaler.fit(X.values, y)\n",
    "        z_data = self._z_scaler.transform(X.values, y)\n",
    "\n",
    "        return super(self.__class__, self).fit(z_data, y)\n",
    "\n",
    "    def fit_transform(self, X, y=None):\n",
    "        \"\"\"Call the fit and the transform method of this class.\"\"\"\n",
    "\n",
    "        X = self._prepare(X)\n",
    "\n",
    "        self.fit(X, y)\n",
    "        return self.transform(X, y)\n",
    "\n",
    "    def transform(self, X, y=None):\n",
    "        \"\"\"Normalize X and call the transform method of the base class with numpy arrays\n",
    "        instead of pandas data frames.\"\"\"\n",
    "\n",
    "        X = self._prepare(X)\n",
    "\n",
    "        z_data = self._z_scaler.transform(X.values, y)\n",
    "\n",
    "        transformed_ndarray = super(self.__class__, self).transform(z_data)\n",
    "\n",
    "        pandas_df = pd.DataFrame(transformed_ndarray)\n",
    "        pandas_df.columns = [\"pca_{}\".format(i) for i in range(len(pandas_df.columns))]\n",
    "\n",
    "        return pandas_df\n",
    "\n",
    "    def _prepare(self, X):\n",
    "        \"\"\"Check if the data is a pandas DataFrame and sorts the column names.\n",
    "\n",
    "        :raise AttributeError: if pandas is not a DataFrame or the columns of the new X \n",
    "        is not compatible with the columns from the previous X data\"\"\"\n",
    "        \n",
    "        if not isinstance(X, pd.DataFrame):\n",
    "            raise AttributeError(\"X is not a pandas DataFrame\")\n",
    "\n",
    "        X.sort_index(axis=1, inplace=True)\n",
    "\n",
    "        if self._X_columns is not None:\n",
    "            if self._X_columns != list(X.columns):\n",
    "                raise AttributeError(\"The columns of the new X is not compatible with the columns from the previous X data\")\n",
    "        else:\n",
    "            self._X_columns = list(X.columns)\n",
    "\n",
    "        return X"
   ]
  },
  {
   "cell_type": "markdown",
   "metadata": {},
   "source": [
    "## transductive conformal prediction (TCP)\n",
    "\n",
    "With TCP learning and prediction occur simultaneously. In this sense confidence in a prediction is tailored both to the previously seen objects (whose features and labels are known) and to the features of the new object, whose label is to be predicted. By conditioning on the new objects conformal predictors take account of how difficult a particular object is to label and adjust their confidence in the prediction accordingly, as opposed to having an overall error rate for labelling all new objects."
   ]
  },
  {
   "cell_type": "code",
   "execution_count": 3,
   "metadata": {},
   "outputs": [],
   "source": [
    "def tcp(features_train, features_new, y_train, n_trees):\n",
    "    n_labels = len(np.unique(y_train))  # number of classes\n",
    "    p_values = np.zeros(n_labels)  # for storing p-values\n",
    "\n",
    "    # Mondrian TCP\n",
    "    for label in range(0, n_labels):\n",
    "        model = RandomForestClassifier(n_estimators=n_trees)\n",
    "        X_fit = np.append(features_train, [features_new], axis=0)\n",
    "        y_fit = np.append(y_train, label)\n",
    "        model.fit(X_fit, y_fit)\n",
    "        samp = np.where(y_fit == label)[0]\n",
    "        # non-conformity scores for objects with label i\n",
    "        alpha = 1 - model.predict_proba(X_fit[samp, :])[:, label]\n",
    "        # score for \"test\" object assuming label = i\n",
    "        alpha_new = alpha[-1]\n",
    "        # p-value for label i\n",
    "        p_values[label] = len(np.where(alpha > alpha_new)[0])\n",
    "        # more careful treatment of cases where alpha == alpha_new\n",
    "        p_values[label] += np.random.uniform() * len(np.where(alpha == alpha_new)[0])\n",
    "        p_values[label] /= len(alpha)\n",
    "\n",
    "    return p_values\n"
   ]
  },
  {
   "cell_type": "markdown",
   "metadata": {},
   "source": [
    "## load data and perform modelling\n",
    "100 replicate runs based on:\n",
    "1. different draws of nonexoplanet stars (200 - selected this value to not have overly imbalanced data)\n",
    "2. tsfresh feature extraction and selection (selection based on independent p-value tests)\n",
    "3. 20 principle componets taken as features for modelling\n",
    "4. transductive conformal prediction with random forest (100 trees) as underlying algorithm"
   ]
  },
  {
   "cell_type": "code",
   "execution_count": 4,
   "metadata": {},
   "outputs": [
    {
     "name": "stdout",
     "output_type": "stream",
     "text": [
      "draw # 1 2018-12-17 21:47:28\n"
     ]
    },
    {
     "name": "stderr",
     "output_type": "stream",
     "text": [
      "Feature Extraction: 100%|██████████| 20/20 [04:46<00:00,  7.58s/it]\n",
      "Feature Extraction: 100%|██████████| 20/20 [04:24<00:00,  8.02s/it]\n"
     ]
    },
    {
     "name": "stdout",
     "output_type": "stream",
     "text": [
      "draw # 2 2018-12-17 21:58:33\n"
     ]
    },
    {
     "name": "stderr",
     "output_type": "stream",
     "text": [
      "Feature Extraction: 100%|██████████| 20/20 [04:44<00:00,  8.22s/it]\n",
      "Feature Extraction: 100%|██████████| 20/20 [04:06<00:00, 12.31s/it]\n"
     ]
    },
    {
     "name": "stdout",
     "output_type": "stream",
     "text": [
      "draw # 3 2018-12-17 22:09:20\n"
     ]
    },
    {
     "name": "stderr",
     "output_type": "stream",
     "text": [
      "Feature Extraction: 100%|██████████| 20/20 [04:33<00:00,  7.62s/it]\n",
      "Feature Extraction: 100%|██████████| 20/20 [03:30<00:00,  6.00s/it]\n"
     ]
    },
    {
     "name": "stdout",
     "output_type": "stream",
     "text": [
      "draw # 4 2018-12-17 22:19:21\n"
     ]
    },
    {
     "name": "stderr",
     "output_type": "stream",
     "text": [
      "Feature Extraction: 100%|██████████| 20/20 [04:41<00:00,  8.56s/it]\n",
      "Feature Extraction: 100%|██████████| 20/20 [04:21<00:00,  7.79s/it]\n"
     ]
    },
    {
     "name": "stdout",
     "output_type": "stream",
     "text": [
      "draw # 5 2018-12-17 22:30:23\n"
     ]
    },
    {
     "name": "stderr",
     "output_type": "stream",
     "text": [
      "Feature Extraction: 100%|██████████| 20/20 [04:43<00:00,  7.68s/it]\n",
      "Feature Extraction: 100%|██████████| 20/20 [04:07<00:00,  8.16s/it]\n"
     ]
    },
    {
     "name": "stdout",
     "output_type": "stream",
     "text": [
      "draw # 6 2018-12-17 22:41:06\n"
     ]
    },
    {
     "name": "stderr",
     "output_type": "stream",
     "text": [
      "Feature Extraction: 100%|██████████| 20/20 [04:46<00:00,  8.04s/it]\n",
      "Feature Extraction: 100%|██████████| 20/20 [04:27<00:00,  8.07s/it]\n"
     ]
    },
    {
     "name": "stdout",
     "output_type": "stream",
     "text": [
      "draw # 7 2018-12-17 22:52:26\n"
     ]
    },
    {
     "name": "stderr",
     "output_type": "stream",
     "text": [
      "Feature Extraction: 100%|██████████| 20/20 [04:55<00:00,  8.58s/it]\n",
      "Feature Extraction: 100%|██████████| 20/20 [04:59<00:00,  9.93s/it]\n"
     ]
    },
    {
     "name": "stdout",
     "output_type": "stream",
     "text": [
      "draw # 8 2018-12-17 23:04:24\n"
     ]
    },
    {
     "name": "stderr",
     "output_type": "stream",
     "text": [
      "Feature Extraction: 100%|██████████| 20/20 [05:00<00:00,  8.58s/it]\n",
      "Feature Extraction: 100%|██████████| 20/20 [04:42<00:00,  7.66s/it]\n"
     ]
    },
    {
     "name": "stdout",
     "output_type": "stream",
     "text": [
      "draw # 9 2018-12-17 23:16:06\n"
     ]
    },
    {
     "name": "stderr",
     "output_type": "stream",
     "text": [
      "Feature Extraction: 100%|██████████| 20/20 [04:54<00:00,  8.65s/it]\n",
      "Feature Extraction: 100%|██████████| 20/20 [04:49<00:00,  8.12s/it]\n"
     ]
    },
    {
     "name": "stdout",
     "output_type": "stream",
     "text": [
      "draw # 10 2018-12-17 23:27:49\n"
     ]
    },
    {
     "name": "stderr",
     "output_type": "stream",
     "text": [
      "Feature Extraction: 100%|██████████| 20/20 [04:40<00:00,  8.10s/it]\n",
      "Feature Extraction: 100%|██████████| 20/20 [04:28<00:00,  7.55s/it]\n"
     ]
    },
    {
     "name": "stdout",
     "output_type": "stream",
     "text": [
      "draw # 11 2018-12-17 23:38:57\n"
     ]
    },
    {
     "name": "stderr",
     "output_type": "stream",
     "text": [
      "Feature Extraction: 100%|██████████| 20/20 [04:40<00:00,  8.26s/it]\n",
      "Feature Extraction: 100%|██████████| 20/20 [03:48<00:00,  6.66s/it]\n"
     ]
    },
    {
     "name": "stdout",
     "output_type": "stream",
     "text": [
      "draw # 12 2018-12-17 23:49:21\n"
     ]
    },
    {
     "name": "stderr",
     "output_type": "stream",
     "text": [
      "Feature Extraction: 100%|██████████| 20/20 [04:31<00:00,  7.80s/it]\n",
      "Feature Extraction: 100%|██████████| 20/20 [04:28<00:00,  7.63s/it]\n"
     ]
    },
    {
     "name": "stdout",
     "output_type": "stream",
     "text": [
      "draw # 13 2018-12-18 00:00:18\n"
     ]
    },
    {
     "name": "stderr",
     "output_type": "stream",
     "text": [
      "Feature Extraction: 100%|██████████| 20/20 [04:55<00:00,  8.12s/it]\n",
      "Feature Extraction: 100%|██████████| 20/20 [03:46<00:00,  6.80s/it]\n"
     ]
    },
    {
     "name": "stdout",
     "output_type": "stream",
     "text": [
      "draw # 14 2018-12-18 00:10:42\n"
     ]
    },
    {
     "name": "stderr",
     "output_type": "stream",
     "text": [
      "Feature Extraction: 100%|██████████| 20/20 [04:13<00:00,  7.38s/it]\n",
      "Feature Extraction: 100%|██████████| 20/20 [03:54<00:00,  6.60s/it]\n"
     ]
    },
    {
     "name": "stdout",
     "output_type": "stream",
     "text": [
      "draw # 15 2018-12-18 00:20:33\n"
     ]
    },
    {
     "name": "stderr",
     "output_type": "stream",
     "text": [
      "Feature Extraction: 100%|██████████| 20/20 [04:12<00:00, 12.63s/it]\n",
      "Feature Extraction: 100%|██████████| 20/20 [03:54<00:00,  6.77s/it]\n"
     ]
    },
    {
     "name": "stdout",
     "output_type": "stream",
     "text": [
      "draw # 16 2018-12-18 00:30:21\n"
     ]
    },
    {
     "name": "stderr",
     "output_type": "stream",
     "text": [
      "Feature Extraction: 100%|██████████| 20/20 [04:16<00:00,  6.95s/it]\n",
      "Feature Extraction: 100%|██████████| 20/20 [04:10<00:00, 12.51s/it]\n"
     ]
    },
    {
     "name": "stdout",
     "output_type": "stream",
     "text": [
      "draw # 17 2018-12-18 00:40:30\n"
     ]
    },
    {
     "name": "stderr",
     "output_type": "stream",
     "text": [
      "Feature Extraction: 100%|██████████| 20/20 [04:14<00:00,  7.18s/it]\n",
      "Feature Extraction: 100%|██████████| 20/20 [03:39<00:00,  6.27s/it]\n"
     ]
    },
    {
     "name": "stdout",
     "output_type": "stream",
     "text": [
      "draw # 18 2018-12-18 00:50:04\n"
     ]
    },
    {
     "name": "stderr",
     "output_type": "stream",
     "text": [
      "Feature Extraction: 100%|██████████| 20/20 [04:14<00:00,  6.91s/it]\n",
      "Feature Extraction: 100%|██████████| 20/20 [03:52<00:00,  6.70s/it]\n"
     ]
    },
    {
     "name": "stdout",
     "output_type": "stream",
     "text": [
      "draw # 19 2018-12-18 00:59:52\n"
     ]
    },
    {
     "name": "stderr",
     "output_type": "stream",
     "text": [
      "Feature Extraction: 100%|██████████| 20/20 [04:14<00:00,  7.25s/it]\n",
      "Feature Extraction: 100%|██████████| 20/20 [03:54<00:00,  6.64s/it]\n"
     ]
    },
    {
     "name": "stdout",
     "output_type": "stream",
     "text": [
      "draw # 20 2018-12-18 01:09:41\n"
     ]
    },
    {
     "name": "stderr",
     "output_type": "stream",
     "text": [
      "Feature Extraction: 100%|██████████| 20/20 [04:18<00:00,  7.15s/it]\n",
      "Feature Extraction: 100%|██████████| 20/20 [02:09<00:00,  6.49s/it]\n"
     ]
    },
    {
     "name": "stdout",
     "output_type": "stream",
     "text": [
      "draw # 21 2018-12-18 01:17:49\n"
     ]
    },
    {
     "name": "stderr",
     "output_type": "stream",
     "text": [
      "Feature Extraction: 100%|██████████| 20/20 [04:16<00:00,  7.71s/it]\n",
      "Feature Extraction: 100%|██████████| 20/20 [04:32<00:00,  8.51s/it]\n"
     ]
    },
    {
     "name": "stdout",
     "output_type": "stream",
     "text": [
      "draw # 22 2018-12-18 01:28:18\n"
     ]
    },
    {
     "name": "stderr",
     "output_type": "stream",
     "text": [
      "Feature Extraction: 100%|██████████| 20/20 [04:18<00:00,  6.91s/it]\n",
      "Feature Extraction: 100%|██████████| 20/20 [03:57<00:00,  6.56s/it]\n"
     ]
    },
    {
     "name": "stdout",
     "output_type": "stream",
     "text": [
      "draw # 23 2018-12-18 01:38:12\n"
     ]
    },
    {
     "name": "stderr",
     "output_type": "stream",
     "text": [
      "Feature Extraction: 100%|██████████| 20/20 [04:11<00:00,  7.54s/it]\n",
      "Feature Extraction: 100%|██████████| 20/20 [04:22<00:00,  8.12s/it]\n"
     ]
    },
    {
     "name": "stdout",
     "output_type": "stream",
     "text": [
      "draw # 24 2018-12-18 01:48:26\n"
     ]
    },
    {
     "name": "stderr",
     "output_type": "stream",
     "text": [
      "Feature Extraction: 100%|██████████| 20/20 [04:15<00:00,  7.63s/it]\n",
      "Feature Extraction: 100%|██████████| 20/20 [04:34<00:00,  8.08s/it]\n"
     ]
    },
    {
     "name": "stdout",
     "output_type": "stream",
     "text": [
      "draw # 25 2018-12-18 01:58:55\n"
     ]
    },
    {
     "name": "stderr",
     "output_type": "stream",
     "text": [
      "Feature Extraction: 100%|██████████| 20/20 [04:15<00:00,  7.66s/it]\n",
      "Feature Extraction: 100%|██████████| 20/20 [04:04<00:00,  6.84s/it]\n"
     ]
    },
    {
     "name": "stdout",
     "output_type": "stream",
     "text": [
      "draw # 26 2018-12-18 02:08:55\n"
     ]
    },
    {
     "name": "stderr",
     "output_type": "stream",
     "text": [
      "Feature Extraction: 100%|██████████| 20/20 [04:12<00:00,  6.89s/it]\n",
      "Feature Extraction: 100%|██████████| 20/20 [02:47<00:00,  3.84s/it]\n"
     ]
    },
    {
     "name": "stdout",
     "output_type": "stream",
     "text": [
      "draw # 27 2018-12-18 02:17:34\n"
     ]
    },
    {
     "name": "stderr",
     "output_type": "stream",
     "text": [
      "Feature Extraction: 100%|██████████| 20/20 [04:15<00:00,  7.93s/it]\n",
      "Feature Extraction: 100%|██████████| 20/20 [04:03<00:00,  6.90s/it]\n"
     ]
    },
    {
     "name": "stdout",
     "output_type": "stream",
     "text": [
      "draw # 28 2018-12-18 02:27:32\n"
     ]
    },
    {
     "name": "stderr",
     "output_type": "stream",
     "text": [
      "Feature Extraction: 100%|██████████| 20/20 [04:15<00:00,  7.54s/it]\n",
      "Feature Extraction: 100%|██████████| 20/20 [03:26<00:00,  5.99s/it]\n"
     ]
    },
    {
     "name": "stdout",
     "output_type": "stream",
     "text": [
      "draw # 29 2018-12-18 02:36:53\n"
     ]
    },
    {
     "name": "stderr",
     "output_type": "stream",
     "text": [
      "Feature Extraction: 100%|██████████| 20/20 [04:12<00:00,  7.57s/it]\n",
      "Feature Extraction: 100%|██████████| 20/20 [04:21<00:00,  8.60s/it]\n"
     ]
    },
    {
     "name": "stdout",
     "output_type": "stream",
     "text": [
      "draw # 30 2018-12-18 02:47:07\n"
     ]
    },
    {
     "name": "stderr",
     "output_type": "stream",
     "text": [
      "Feature Extraction: 100%|██████████| 20/20 [04:14<00:00,  7.23s/it]\n",
      "Feature Extraction: 100%|██████████| 20/20 [04:01<00:00,  5.36s/it]\n"
     ]
    },
    {
     "name": "stdout",
     "output_type": "stream",
     "text": [
      "draw # 31 2018-12-18 02:57:01\n"
     ]
    },
    {
     "name": "stderr",
     "output_type": "stream",
     "text": [
      "Feature Extraction: 100%|██████████| 20/20 [04:14<00:00,  7.63s/it]\n",
      "Feature Extraction: 100%|██████████| 20/20 [04:27<00:00,  7.59s/it]\n"
     ]
    },
    {
     "name": "stdout",
     "output_type": "stream",
     "text": [
      "draw # 32 2018-12-18 03:07:22\n"
     ]
    },
    {
     "name": "stderr",
     "output_type": "stream",
     "text": [
      "Feature Extraction: 100%|██████████| 20/20 [04:15<00:00,  6.90s/it]\n",
      "Feature Extraction: 100%|██████████| 20/20 [04:50<00:00, 11.35s/it]\n"
     ]
    },
    {
     "name": "stdout",
     "output_type": "stream",
     "text": [
      "draw # 33 2018-12-18 03:18:07\n"
     ]
    },
    {
     "name": "stderr",
     "output_type": "stream",
     "text": [
      "Feature Extraction: 100%|██████████| 20/20 [04:14<00:00,  7.39s/it]\n",
      "Feature Extraction: 100%|██████████| 20/20 [03:49<00:00, 11.48s/it]\n"
     ]
    },
    {
     "name": "stdout",
     "output_type": "stream",
     "text": [
      "draw # 34 2018-12-18 03:27:51\n"
     ]
    },
    {
     "name": "stderr",
     "output_type": "stream",
     "text": [
      "Feature Extraction: 100%|██████████| 20/20 [04:17<00:00,  7.27s/it]\n",
      "Feature Extraction: 100%|██████████| 20/20 [03:56<00:00,  6.37s/it]\n"
     ]
    },
    {
     "name": "stdout",
     "output_type": "stream",
     "text": [
      "draw # 35 2018-12-18 03:37:44\n"
     ]
    },
    {
     "name": "stderr",
     "output_type": "stream",
     "text": [
      "Feature Extraction: 100%|██████████| 20/20 [04:16<00:00,  6.76s/it]\n",
      "Feature Extraction: 100%|██████████| 20/20 [03:52<00:00,  6.82s/it]\n"
     ]
    },
    {
     "name": "stdout",
     "output_type": "stream",
     "text": [
      "draw # 36 2018-12-18 03:47:34\n"
     ]
    },
    {
     "name": "stderr",
     "output_type": "stream",
     "text": [
      "Feature Extraction: 100%|██████████| 20/20 [04:15<00:00,  7.06s/it]\n",
      "Feature Extraction: 100%|██████████| 20/20 [04:18<00:00,  7.45s/it]\n"
     ]
    },
    {
     "name": "stdout",
     "output_type": "stream",
     "text": [
      "draw # 37 2018-12-18 03:57:49\n"
     ]
    },
    {
     "name": "stderr",
     "output_type": "stream",
     "text": [
      "Feature Extraction: 100%|██████████| 20/20 [04:14<00:00,  7.26s/it]\n",
      "Feature Extraction: 100%|██████████| 20/20 [03:52<00:00,  6.59s/it]\n"
     ]
    },
    {
     "name": "stdout",
     "output_type": "stream",
     "text": [
      "draw # 38 2018-12-18 04:07:35\n"
     ]
    },
    {
     "name": "stderr",
     "output_type": "stream",
     "text": [
      "Feature Extraction: 100%|██████████| 20/20 [04:16<00:00,  6.82s/it]\n",
      "Feature Extraction: 100%|██████████| 20/20 [03:52<00:00,  6.67s/it]\n"
     ]
    },
    {
     "name": "stdout",
     "output_type": "stream",
     "text": [
      "draw # 39 2018-12-18 04:17:25\n"
     ]
    },
    {
     "name": "stderr",
     "output_type": "stream",
     "text": [
      "Feature Extraction: 100%|██████████| 20/20 [04:14<00:00,  6.86s/it]\n",
      "Feature Extraction: 100%|██████████| 20/20 [04:30<00:00,  7.21s/it]\n"
     ]
    },
    {
     "name": "stdout",
     "output_type": "stream",
     "text": [
      "draw # 40 2018-12-18 04:27:50\n"
     ]
    },
    {
     "name": "stderr",
     "output_type": "stream",
     "text": [
      "Feature Extraction: 100%|██████████| 20/20 [04:14<00:00,  7.18s/it]\n",
      "Feature Extraction: 100%|██████████| 20/20 [04:26<00:00,  7.59s/it]\n"
     ]
    },
    {
     "name": "stdout",
     "output_type": "stream",
     "text": [
      "draw # 41 2018-12-18 04:38:12\n"
     ]
    },
    {
     "name": "stderr",
     "output_type": "stream",
     "text": [
      "Feature Extraction: 100%|██████████| 20/20 [04:16<00:00,  6.95s/it]\n",
      "Feature Extraction: 100%|██████████| 20/20 [03:48<00:00,  6.48s/it]\n"
     ]
    },
    {
     "name": "stdout",
     "output_type": "stream",
     "text": [
      "draw # 42 2018-12-18 04:47:56\n"
     ]
    },
    {
     "name": "stderr",
     "output_type": "stream",
     "text": [
      "Feature Extraction: 100%|██████████| 20/20 [04:20<00:00,  8.17s/it]\n",
      "Feature Extraction: 100%|██████████| 20/20 [04:06<00:00,  6.92s/it]\n"
     ]
    },
    {
     "name": "stdout",
     "output_type": "stream",
     "text": [
      "draw # 43 2018-12-18 04:58:03\n"
     ]
    },
    {
     "name": "stderr",
     "output_type": "stream",
     "text": [
      "Feature Extraction: 100%|██████████| 20/20 [04:12<00:00,  6.84s/it]\n",
      "Feature Extraction: 100%|██████████| 20/20 [04:03<00:00,  6.48s/it]\n"
     ]
    },
    {
     "name": "stdout",
     "output_type": "stream",
     "text": [
      "draw # 44 2018-12-18 05:07:59\n"
     ]
    },
    {
     "name": "stderr",
     "output_type": "stream",
     "text": [
      "Feature Extraction: 100%|██████████| 20/20 [04:16<00:00,  7.64s/it]\n",
      "Feature Extraction: 100%|██████████| 20/20 [03:23<00:00, 10.15s/it]\n"
     ]
    },
    {
     "name": "stdout",
     "output_type": "stream",
     "text": [
      "draw # 45 2018-12-18 05:17:17\n"
     ]
    },
    {
     "name": "stderr",
     "output_type": "stream",
     "text": [
      "Feature Extraction: 100%|██████████| 20/20 [04:13<00:00,  6.74s/it]\n",
      "Feature Extraction: 100%|██████████| 20/20 [04:18<00:00,  7.44s/it]\n"
     ]
    },
    {
     "name": "stdout",
     "output_type": "stream",
     "text": [
      "draw # 46 2018-12-18 05:27:29\n"
     ]
    },
    {
     "name": "stderr",
     "output_type": "stream",
     "text": [
      "Feature Extraction: 100%|██████████| 20/20 [04:14<00:00,  7.84s/it]\n",
      "Feature Extraction: 100%|██████████| 20/20 [04:28<00:00, 13.43s/it]\n"
     ]
    },
    {
     "name": "stdout",
     "output_type": "stream",
     "text": [
      "draw # 47 2018-12-18 05:37:49\n"
     ]
    },
    {
     "name": "stderr",
     "output_type": "stream",
     "text": [
      "Feature Extraction: 100%|██████████| 20/20 [04:14<00:00,  6.57s/it]\n",
      "Feature Extraction: 100%|██████████| 20/20 [02:35<00:00,  4.40s/it]\n"
     ]
    },
    {
     "name": "stdout",
     "output_type": "stream",
     "text": [
      "draw # 48 2018-12-18 05:46:19\n"
     ]
    },
    {
     "name": "stderr",
     "output_type": "stream",
     "text": [
      "Feature Extraction: 100%|██████████| 20/20 [04:17<00:00,  7.53s/it]\n",
      "Feature Extraction: 100%|██████████| 20/20 [03:55<00:00,  6.79s/it]\n"
     ]
    },
    {
     "name": "stdout",
     "output_type": "stream",
     "text": [
      "draw # 49 2018-12-18 05:56:12\n"
     ]
    },
    {
     "name": "stderr",
     "output_type": "stream",
     "text": [
      "Feature Extraction: 100%|██████████| 20/20 [04:12<00:00,  7.46s/it]\n",
      "Feature Extraction: 100%|██████████| 20/20 [04:16<00:00,  8.35s/it]\n"
     ]
    },
    {
     "name": "stdout",
     "output_type": "stream",
     "text": [
      "draw # 50 2018-12-18 06:06:23\n"
     ]
    },
    {
     "name": "stderr",
     "output_type": "stream",
     "text": [
      "Feature Extraction: 100%|██████████| 20/20 [04:18<00:00,  7.14s/it]\n",
      "Feature Extraction: 100%|██████████| 20/20 [04:35<00:00,  8.08s/it]\n"
     ]
    },
    {
     "name": "stdout",
     "output_type": "stream",
     "text": [
      "draw # 51 2018-12-18 06:16:58\n"
     ]
    },
    {
     "name": "stderr",
     "output_type": "stream",
     "text": [
      "Feature Extraction: 100%|██████████| 20/20 [04:20<00:00, 13.02s/it]\n",
      "Feature Extraction: 100%|██████████| 20/20 [04:14<00:00,  5.53s/it]\n"
     ]
    },
    {
     "name": "stdout",
     "output_type": "stream",
     "text": [
      "draw # 52 2018-12-18 06:27:12\n"
     ]
    },
    {
     "name": "stderr",
     "output_type": "stream",
     "text": [
      "Feature Extraction: 100%|██████████| 20/20 [04:18<00:00,  6.99s/it]\n",
      "Feature Extraction: 100%|██████████| 20/20 [03:41<00:00,  6.23s/it]\n"
     ]
    },
    {
     "name": "stdout",
     "output_type": "stream",
     "text": [
      "draw # 53 2018-12-18 06:36:53\n"
     ]
    },
    {
     "name": "stderr",
     "output_type": "stream",
     "text": [
      "Feature Extraction: 100%|██████████| 20/20 [04:17<00:00,  8.65s/it]\n",
      "Feature Extraction: 100%|██████████| 20/20 [04:43<00:00,  8.10s/it]\n"
     ]
    },
    {
     "name": "stdout",
     "output_type": "stream",
     "text": [
      "draw # 54 2018-12-18 06:47:37\n"
     ]
    },
    {
     "name": "stderr",
     "output_type": "stream",
     "text": [
      "Feature Extraction: 100%|██████████| 20/20 [04:14<00:00,  7.65s/it]\n",
      "Feature Extraction: 100%|██████████| 20/20 [04:15<00:00,  6.68s/it]\n"
     ]
    },
    {
     "name": "stdout",
     "output_type": "stream",
     "text": [
      "draw # 55 2018-12-18 06:57:46\n"
     ]
    },
    {
     "name": "stderr",
     "output_type": "stream",
     "text": [
      "Feature Extraction: 100%|██████████| 20/20 [04:14<00:00,  6.61s/it]\n",
      "Feature Extraction: 100%|██████████| 20/20 [04:02<00:00,  6.76s/it]\n"
     ]
    },
    {
     "name": "stdout",
     "output_type": "stream",
     "text": [
      "draw # 56 2018-12-18 07:07:42\n"
     ]
    },
    {
     "name": "stderr",
     "output_type": "stream",
     "text": [
      "Feature Extraction: 100%|██████████| 20/20 [04:14<00:00,  7.03s/it]\n",
      "Feature Extraction: 100%|██████████| 20/20 [03:40<00:00,  6.49s/it]\n"
     ]
    },
    {
     "name": "stdout",
     "output_type": "stream",
     "text": [
      "draw # 57 2018-12-18 07:17:16\n"
     ]
    },
    {
     "name": "stderr",
     "output_type": "stream",
     "text": [
      "Feature Extraction: 100%|██████████| 20/20 [04:16<00:00,  6.72s/it]\n",
      "Feature Extraction: 100%|██████████| 20/20 [04:09<00:00,  6.94s/it]\n"
     ]
    },
    {
     "name": "stdout",
     "output_type": "stream",
     "text": [
      "draw # 58 2018-12-18 07:27:21\n"
     ]
    },
    {
     "name": "stderr",
     "output_type": "stream",
     "text": [
      "Feature Extraction: 100%|██████████| 20/20 [04:14<00:00,  7.33s/it]\n",
      "Feature Extraction: 100%|██████████| 20/20 [04:29<00:00,  7.67s/it]\n"
     ]
    },
    {
     "name": "stdout",
     "output_type": "stream",
     "text": [
      "draw # 59 2018-12-18 07:37:46\n"
     ]
    },
    {
     "name": "stderr",
     "output_type": "stream",
     "text": [
      "Feature Extraction: 100%|██████████| 20/20 [04:16<00:00,  7.37s/it]\n",
      "Feature Extraction: 100%|██████████| 20/20 [04:09<00:00,  7.17s/it]\n"
     ]
    },
    {
     "name": "stdout",
     "output_type": "stream",
     "text": [
      "draw # 60 2018-12-18 07:47:51\n"
     ]
    },
    {
     "name": "stderr",
     "output_type": "stream",
     "text": [
      "Feature Extraction: 100%|██████████| 20/20 [04:18<00:00,  7.06s/it]\n",
      "Feature Extraction: 100%|██████████| 20/20 [03:50<00:00,  6.48s/it]\n"
     ]
    },
    {
     "name": "stdout",
     "output_type": "stream",
     "text": [
      "draw # 61 2018-12-18 07:57:41\n"
     ]
    },
    {
     "name": "stderr",
     "output_type": "stream",
     "text": [
      "Feature Extraction: 100%|██████████| 20/20 [04:13<00:00,  7.22s/it]\n",
      "Feature Extraction: 100%|██████████| 20/20 [04:46<00:00,  8.06s/it]\n"
     ]
    },
    {
     "name": "stdout",
     "output_type": "stream",
     "text": [
      "draw # 62 2018-12-18 08:08:22\n"
     ]
    },
    {
     "name": "stderr",
     "output_type": "stream",
     "text": [
      "Feature Extraction: 100%|██████████| 20/20 [04:15<00:00,  7.25s/it]\n",
      "Feature Extraction: 100%|██████████| 20/20 [04:11<00:00,  8.61s/it]\n"
     ]
    },
    {
     "name": "stdout",
     "output_type": "stream",
     "text": [
      "draw # 63 2018-12-18 08:18:29\n"
     ]
    },
    {
     "name": "stderr",
     "output_type": "stream",
     "text": [
      "Feature Extraction: 100%|██████████| 20/20 [04:16<00:00,  7.17s/it]\n",
      "Feature Extraction: 100%|██████████| 20/20 [04:20<00:00,  7.24s/it]\n"
     ]
    },
    {
     "name": "stdout",
     "output_type": "stream",
     "text": [
      "draw # 64 2018-12-18 08:28:47\n"
     ]
    },
    {
     "name": "stderr",
     "output_type": "stream",
     "text": [
      "Feature Extraction: 100%|██████████| 20/20 [04:14<00:00,  7.44s/it]\n",
      "Feature Extraction: 100%|██████████| 20/20 [04:02<00:00,  5.22s/it]\n"
     ]
    },
    {
     "name": "stdout",
     "output_type": "stream",
     "text": [
      "draw # 65 2018-12-18 08:38:45\n"
     ]
    },
    {
     "name": "stderr",
     "output_type": "stream",
     "text": [
      "Feature Extraction: 100%|██████████| 20/20 [04:14<00:00,  7.78s/it]\n",
      "Feature Extraction: 100%|██████████| 20/20 [03:47<00:00,  6.63s/it]\n"
     ]
    },
    {
     "name": "stdout",
     "output_type": "stream",
     "text": [
      "draw # 66 2018-12-18 08:48:28\n"
     ]
    },
    {
     "name": "stderr",
     "output_type": "stream",
     "text": [
      "Feature Extraction: 100%|██████████| 20/20 [04:15<00:00,  7.40s/it]\n",
      "Feature Extraction: 100%|██████████| 20/20 [04:05<00:00,  6.90s/it]\n"
     ]
    },
    {
     "name": "stdout",
     "output_type": "stream",
     "text": [
      "draw # 67 2018-12-18 08:58:27\n"
     ]
    },
    {
     "name": "stderr",
     "output_type": "stream",
     "text": [
      "Feature Extraction: 100%|██████████| 20/20 [04:12<00:00,  7.54s/it]\n",
      "Feature Extraction: 100%|██████████| 20/20 [03:45<00:00,  6.25s/it]\n"
     ]
    },
    {
     "name": "stdout",
     "output_type": "stream",
     "text": [
      "draw # 68 2018-12-18 09:08:06\n"
     ]
    },
    {
     "name": "stderr",
     "output_type": "stream",
     "text": [
      "Feature Extraction: 100%|██████████| 20/20 [04:10<00:00,  6.81s/it]\n",
      "Feature Extraction: 100%|██████████| 20/20 [04:20<00:00,  7.60s/it]\n"
     ]
    },
    {
     "name": "stdout",
     "output_type": "stream",
     "text": [
      "draw # 69 2018-12-18 09:18:17\n"
     ]
    },
    {
     "name": "stderr",
     "output_type": "stream",
     "text": [
      "Feature Extraction: 100%|██████████| 20/20 [04:16<00:00,  6.87s/it]\n",
      "Feature Extraction: 100%|██████████| 20/20 [04:29<00:00, 10.05s/it]\n"
     ]
    },
    {
     "name": "stdout",
     "output_type": "stream",
     "text": [
      "draw # 70 2018-12-18 09:28:43\n"
     ]
    },
    {
     "name": "stderr",
     "output_type": "stream",
     "text": [
      "Feature Extraction: 100%|██████████| 20/20 [04:14<00:00,  7.44s/it]\n",
      "Feature Extraction: 100%|██████████| 20/20 [04:10<00:00,  7.16s/it]\n"
     ]
    },
    {
     "name": "stdout",
     "output_type": "stream",
     "text": [
      "draw # 71 2018-12-18 09:38:47\n"
     ]
    },
    {
     "name": "stderr",
     "output_type": "stream",
     "text": [
      "Feature Extraction: 100%|██████████| 20/20 [04:16<00:00,  6.96s/it]\n",
      "Feature Extraction: 100%|██████████| 20/20 [04:06<00:00,  4.81s/it]\n"
     ]
    },
    {
     "name": "stdout",
     "output_type": "stream",
     "text": [
      "draw # 72 2018-12-18 09:48:50\n"
     ]
    },
    {
     "name": "stderr",
     "output_type": "stream",
     "text": [
      "Feature Extraction: 100%|██████████| 20/20 [04:12<00:00,  6.81s/it]\n",
      "Feature Extraction: 100%|██████████| 20/20 [03:27<00:00,  7.39s/it]\n"
     ]
    },
    {
     "name": "stdout",
     "output_type": "stream",
     "text": [
      "draw # 73 2018-12-18 09:58:11\n"
     ]
    },
    {
     "name": "stderr",
     "output_type": "stream",
     "text": [
      "Feature Extraction: 100%|██████████| 20/20 [04:24<00:00,  7.78s/it]\n",
      "Feature Extraction: 100%|██████████| 20/20 [04:48<00:00,  7.95s/it]\n"
     ]
    },
    {
     "name": "stdout",
     "output_type": "stream",
     "text": [
      "draw # 74 2018-12-18 10:09:13\n"
     ]
    },
    {
     "name": "stderr",
     "output_type": "stream",
     "text": [
      "Feature Extraction: 100%|██████████| 20/20 [04:26<00:00,  6.70s/it]\n",
      "Feature Extraction: 100%|██████████| 20/20 [03:57<00:00,  6.67s/it]\n"
     ]
    },
    {
     "name": "stdout",
     "output_type": "stream",
     "text": [
      "draw # 75 2018-12-18 10:19:28\n"
     ]
    },
    {
     "name": "stderr",
     "output_type": "stream",
     "text": [
      "Feature Extraction: 100%|██████████| 20/20 [04:13<00:00,  6.99s/it]\n",
      "Feature Extraction: 100%|██████████| 20/20 [03:56<00:00,  6.79s/it]\n"
     ]
    },
    {
     "name": "stdout",
     "output_type": "stream",
     "text": [
      "draw # 76 2018-12-18 10:29:19\n"
     ]
    },
    {
     "name": "stderr",
     "output_type": "stream",
     "text": [
      "Feature Extraction: 100%|██████████| 20/20 [04:13<00:00,  7.46s/it]\n",
      "Feature Extraction: 100%|██████████| 20/20 [04:21<00:00,  7.44s/it]\n"
     ]
    },
    {
     "name": "stdout",
     "output_type": "stream",
     "text": [
      "draw # 77 2018-12-18 10:39:35\n"
     ]
    },
    {
     "name": "stderr",
     "output_type": "stream",
     "text": [
      "Feature Extraction: 100%|██████████| 20/20 [04:12<00:00,  6.81s/it]\n",
      "Feature Extraction: 100%|██████████| 20/20 [04:22<00:00,  7.51s/it]\n"
     ]
    },
    {
     "name": "stdout",
     "output_type": "stream",
     "text": [
      "draw # 78 2018-12-18 10:49:50\n"
     ]
    },
    {
     "name": "stderr",
     "output_type": "stream",
     "text": [
      "Feature Extraction: 100%|██████████| 20/20 [04:15<00:00,  7.19s/it]\n",
      "Feature Extraction: 100%|██████████| 20/20 [04:23<00:00,  8.48s/it]\n"
     ]
    },
    {
     "name": "stdout",
     "output_type": "stream",
     "text": [
      "draw # 79 2018-12-18 11:00:06\n"
     ]
    },
    {
     "name": "stderr",
     "output_type": "stream",
     "text": [
      "Feature Extraction: 100%|██████████| 20/20 [04:12<00:00, 10.29s/it]\n",
      "Feature Extraction: 100%|██████████| 20/20 [04:27<00:00, 13.38s/it]\n"
     ]
    },
    {
     "name": "stdout",
     "output_type": "stream",
     "text": [
      "draw # 80 2018-12-18 11:10:25\n"
     ]
    },
    {
     "name": "stderr",
     "output_type": "stream",
     "text": [
      "Feature Extraction: 100%|██████████| 20/20 [04:11<00:00,  7.02s/it]\n",
      "Feature Extraction: 100%|██████████| 20/20 [03:07<00:00,  5.29s/it]\n"
     ]
    },
    {
     "name": "stdout",
     "output_type": "stream",
     "text": [
      "draw # 81 2018-12-18 11:19:24\n"
     ]
    },
    {
     "name": "stderr",
     "output_type": "stream",
     "text": [
      "Feature Extraction: 100%|██████████| 20/20 [04:12<00:00,  6.58s/it]\n",
      "Feature Extraction: 100%|██████████| 20/20 [03:54<00:00,  6.76s/it]\n"
     ]
    },
    {
     "name": "stdout",
     "output_type": "stream",
     "text": [
      "draw # 82 2018-12-18 11:29:11\n"
     ]
    },
    {
     "name": "stderr",
     "output_type": "stream",
     "text": [
      "Feature Extraction: 100%|██████████| 20/20 [04:15<00:00,  7.60s/it]\n",
      "Feature Extraction: 100%|██████████| 20/20 [04:08<00:00,  7.03s/it]\n"
     ]
    },
    {
     "name": "stdout",
     "output_type": "stream",
     "text": [
      "draw # 83 2018-12-18 11:39:14\n"
     ]
    },
    {
     "name": "stderr",
     "output_type": "stream",
     "text": [
      "Feature Extraction: 100%|██████████| 20/20 [04:13<00:00,  7.50s/it]\n",
      "Feature Extraction: 100%|██████████| 20/20 [04:16<00:00, 10.85s/it]\n"
     ]
    },
    {
     "name": "stdout",
     "output_type": "stream",
     "text": [
      "draw # 84 2018-12-18 11:49:23\n"
     ]
    },
    {
     "name": "stderr",
     "output_type": "stream",
     "text": [
      "Feature Extraction: 100%|██████████| 20/20 [04:11<00:00,  7.32s/it]\n",
      "Feature Extraction: 100%|██████████| 20/20 [03:49<00:00,  6.50s/it]\n"
     ]
    },
    {
     "name": "stdout",
     "output_type": "stream",
     "text": [
      "draw # 85 2018-12-18 11:59:05\n"
     ]
    },
    {
     "name": "stderr",
     "output_type": "stream",
     "text": [
      "Feature Extraction: 100%|██████████| 20/20 [04:11<00:00,  7.87s/it]\n",
      "Feature Extraction: 100%|██████████| 20/20 [03:53<00:00,  6.59s/it]\n"
     ]
    },
    {
     "name": "stdout",
     "output_type": "stream",
     "text": [
      "draw # 86 2018-12-18 12:08:50\n"
     ]
    },
    {
     "name": "stderr",
     "output_type": "stream",
     "text": [
      "Feature Extraction: 100%|██████████| 20/20 [04:13<00:00,  6.97s/it]\n",
      "Feature Extraction: 100%|██████████| 20/20 [04:05<00:00,  6.85s/it]\n"
     ]
    },
    {
     "name": "stdout",
     "output_type": "stream",
     "text": [
      "draw # 87 2018-12-18 12:18:47\n"
     ]
    },
    {
     "name": "stderr",
     "output_type": "stream",
     "text": [
      "Feature Extraction: 100%|██████████| 20/20 [04:12<00:00,  6.88s/it]\n",
      "Feature Extraction: 100%|██████████| 20/20 [04:32<00:00,  8.53s/it]\n"
     ]
    },
    {
     "name": "stdout",
     "output_type": "stream",
     "text": [
      "draw # 88 2018-12-18 12:29:13\n"
     ]
    },
    {
     "name": "stderr",
     "output_type": "stream",
     "text": [
      "Feature Extraction: 100%|██████████| 20/20 [04:12<00:00,  7.52s/it]\n",
      "Feature Extraction: 100%|██████████| 20/20 [03:49<00:00,  6.75s/it]\n"
     ]
    },
    {
     "name": "stdout",
     "output_type": "stream",
     "text": [
      "draw # 89 2018-12-18 12:38:56\n"
     ]
    },
    {
     "name": "stderr",
     "output_type": "stream",
     "text": [
      "Feature Extraction: 100%|██████████| 20/20 [04:13<00:00,  6.86s/it]\n",
      "Feature Extraction: 100%|██████████| 20/20 [04:01<00:00,  6.82s/it]\n"
     ]
    },
    {
     "name": "stdout",
     "output_type": "stream",
     "text": [
      "draw # 90 2018-12-18 12:48:51\n"
     ]
    },
    {
     "name": "stderr",
     "output_type": "stream",
     "text": [
      "Feature Extraction: 100%|██████████| 20/20 [04:13<00:00,  6.81s/it]\n",
      "Feature Extraction: 100%|██████████| 20/20 [04:03<00:00,  6.83s/it]\n"
     ]
    },
    {
     "name": "stdout",
     "output_type": "stream",
     "text": [
      "draw # 91 2018-12-18 12:58:49\n"
     ]
    },
    {
     "name": "stderr",
     "output_type": "stream",
     "text": [
      "Feature Extraction: 100%|██████████| 20/20 [04:13<00:00,  7.10s/it]\n",
      "Feature Extraction: 100%|██████████| 20/20 [04:47<00:00,  8.04s/it]\n"
     ]
    },
    {
     "name": "stdout",
     "output_type": "stream",
     "text": [
      "draw # 92 2018-12-18 13:09:30\n"
     ]
    },
    {
     "name": "stderr",
     "output_type": "stream",
     "text": [
      "Feature Extraction: 100%|██████████| 20/20 [04:14<00:00,  7.25s/it]\n",
      "Feature Extraction: 100%|██████████| 20/20 [03:54<00:00,  6.97s/it]\n"
     ]
    },
    {
     "name": "stdout",
     "output_type": "stream",
     "text": [
      "draw # 93 2018-12-18 13:19:19\n"
     ]
    },
    {
     "name": "stderr",
     "output_type": "stream",
     "text": [
      "Feature Extraction: 100%|██████████| 20/20 [04:13<00:00,  7.41s/it]\n",
      "Feature Extraction: 100%|██████████| 20/20 [03:29<00:00,  5.97s/it]\n"
     ]
    },
    {
     "name": "stdout",
     "output_type": "stream",
     "text": [
      "draw # 94 2018-12-18 13:28:40\n"
     ]
    },
    {
     "name": "stderr",
     "output_type": "stream",
     "text": [
      "Feature Extraction: 100%|██████████| 20/20 [04:20<00:00,  7.45s/it]\n",
      "Feature Extraction: 100%|██████████| 20/20 [04:07<00:00,  9.15s/it]\n"
     ]
    },
    {
     "name": "stdout",
     "output_type": "stream",
     "text": [
      "draw # 95 2018-12-18 13:38:49\n"
     ]
    },
    {
     "name": "stderr",
     "output_type": "stream",
     "text": [
      "Feature Extraction: 100%|██████████| 20/20 [04:13<00:00,  6.98s/it]\n",
      "Feature Extraction: 100%|██████████| 20/20 [04:07<00:00,  7.09s/it]\n"
     ]
    },
    {
     "name": "stdout",
     "output_type": "stream",
     "text": [
      "draw # 96 2018-12-18 13:48:49\n"
     ]
    },
    {
     "name": "stderr",
     "output_type": "stream",
     "text": [
      "Feature Extraction: 100%|██████████| 20/20 [04:12<00:00,  7.10s/it]\n",
      "Feature Extraction: 100%|██████████| 20/20 [03:51<00:00, 11.56s/it]\n"
     ]
    },
    {
     "name": "stdout",
     "output_type": "stream",
     "text": [
      "draw # 97 2018-12-18 13:58:34\n"
     ]
    },
    {
     "name": "stderr",
     "output_type": "stream",
     "text": [
      "Feature Extraction: 100%|██████████| 20/20 [04:17<00:00,  8.23s/it]\n",
      "Feature Extraction: 100%|██████████| 20/20 [04:18<00:00,  7.16s/it]\n"
     ]
    },
    {
     "name": "stdout",
     "output_type": "stream",
     "text": [
      "draw # 98 2018-12-18 14:08:54\n"
     ]
    },
    {
     "name": "stderr",
     "output_type": "stream",
     "text": [
      "Feature Extraction: 100%|██████████| 20/20 [04:20<00:00, 13.04s/it]\n",
      "Feature Extraction: 100%|██████████| 20/20 [04:01<00:00,  6.81s/it]\n"
     ]
    },
    {
     "name": "stdout",
     "output_type": "stream",
     "text": [
      "draw # 99 2018-12-18 14:19:01\n"
     ]
    },
    {
     "name": "stderr",
     "output_type": "stream",
     "text": [
      "Feature Extraction: 100%|██████████| 20/20 [04:24<00:00,  7.39s/it]\n",
      "Feature Extraction: 100%|██████████| 20/20 [04:02<00:00,  6.74s/it]\n"
     ]
    },
    {
     "name": "stdout",
     "output_type": "stream",
     "text": [
      "draw # 100 2018-12-18 14:29:13\n"
     ]
    },
    {
     "name": "stderr",
     "output_type": "stream",
     "text": [
      "Feature Extraction: 100%|██████████| 20/20 [04:22<00:00, 13.11s/it]\n",
      "Feature Extraction: 100%|██████████| 20/20 [04:02<00:00,  6.74s/it]\n"
     ]
    }
   ],
   "source": [
    "x_train = pd.read_csv('x_train.csv', index_col=0)\n",
    "x_test = pd.read_csv('x_test.csv', index_col=0)\n",
    "y_train = pd.read_csv('y_train.csv', index_col=0)\n",
    "y_test = pd.read_csv('y_test.csv', index_col=0)\n",
    "\n",
    "extraction_settings = ComprehensiveFCParameters() # for tsfresh\n",
    "\n",
    "n_draws = 100\n",
    "n_RF_trees = 100\n",
    "n_neg = 200\n",
    "n_test = len(y_test)\n",
    "res = np.zeros((n_draws, n_test, 2))\n",
    "\n",
    "for i in range(n_draws):\n",
    "    print('draw #', i + 1, str(datetime.now().strftime('%Y-%m-%d %H:%M:%S')))\n",
    "    stars = y_train[y_train['LABEL']].index.values # all exoplanet stars\n",
    "    ff = np.random.choice(np.arange(38, 5088), n_neg, replace=False)\n",
    "    stars = np.concatenate((stars,ff))\n",
    "    stars.sort()\n",
    "    col_names = ['id', 'time', 'f01', 'f02']\n",
    "    X0  = pd.DataFrame(columns = col_names)\n",
    "    for ii in stars:\n",
    "        xx = x_train[x_train['id']==ii]\n",
    "        X0 = pd.concat([X0,xx]).reset_index(drop=True)\n",
    "    X0['id'] = X0['id'].astype(int)\n",
    "    X0['time'] = X0['time'].astype(int)\n",
    "    X = extract_features(X0,\n",
    "                         column_id='id', column_sort='time',\n",
    "                         default_fc_parameters=extraction_settings,\n",
    "                         impute_function= impute)\n",
    "    Y = y_train.loc[stars]\n",
    "    Y = Y.iloc[:,0] # turning into a Series insteas of a dataframe\n",
    "    X_filtered = select_features(X, Y)\n",
    "    \n",
    "    nfeat = X_filtered.shape[1]\n",
    "    ncomp = min(nfeat,20) # just incase, although mostly nfeat is >> 20\n",
    "    pca_train = PCAForPandas(n_components=ncomp)\n",
    "    X_train_pca = pca_train.fit_transform(X_filtered)\n",
    "    # add index plus 1 to keep original index\n",
    "    X_train_pca.index += 1\n",
    "    \n",
    "    X_test_filtered = extract_features(x_test, column_id='id', column_sort='time',\n",
    "                                       kind_to_fc_parameters=settings.from_columns(X_filtered.columns),\n",
    "                                       impute_function=impute)\n",
    "    \n",
    "    # need the following fix as there appears to be a bug in tsfresh\n",
    "    # whereby too many features get extracted for the test set\n",
    "    column_select = []\n",
    "    xcols = X_filtered.columns.values\n",
    "    for ii in range(len(xcols)):\n",
    "        column_select.append(int(np.where(X_test_filtered.columns.values == xcols[ii])[0]))\n",
    "        \n",
    "    column_select = np.asanyarray(column_select)\n",
    "    X_test_filtered = X_test_filtered.iloc[:, column_select]\n",
    "    X_test_pca = pca_train.transform(X_test_filtered)\n",
    "    X_test_pca.index += 1\n",
    "    \n",
    "    for j in range(1, n_test + 1):\n",
    "        res[i, j - 1, :] = tcp(X_train_pca, X_test_pca.loc[j], Y, n_RF_trees)"
   ]
  },
  {
   "cell_type": "markdown",
   "metadata": {},
   "source": [
    "## save results"
   ]
  },
  {
   "cell_type": "code",
   "execution_count": 5,
   "metadata": {},
   "outputs": [],
   "source": [
    "np.save('res.npy', res)"
   ]
  }
 ],
 "metadata": {
  "kernelspec": {
   "display_name": "Python 3",
   "language": "python",
   "name": "python3"
  },
  "language_info": {
   "codemirror_mode": {
    "name": "ipython",
    "version": 3
   },
   "file_extension": ".py",
   "mimetype": "text/x-python",
   "name": "python",
   "nbconvert_exporter": "python",
   "pygments_lexer": "ipython3",
   "version": "3.7.1"
  }
 },
 "nbformat": 4,
 "nbformat_minor": 2
}
